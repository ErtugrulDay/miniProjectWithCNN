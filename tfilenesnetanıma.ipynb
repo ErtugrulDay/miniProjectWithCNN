{
 "cells": [
  {
   "cell_type": "code",
   "execution_count": 1,
   "metadata": {},
   "outputs": [],
   "source": [
    "import numpy as np\n",
    "import pandas as pd\n",
    "import tensorflow as tf\n",
    "from tensorflow.keras import datasets,layers,models\n",
    "import matplotlib.pyplot as plt"
   ]
  },
  {
   "cell_type": "code",
   "execution_count": 2,
   "metadata": {},
   "outputs": [
    {
     "name": "stdout",
     "output_type": "stream",
     "text": [
      "Downloading data from https://www.cs.toronto.edu/~kriz/cifar-10-python.tar.gz\n",
      "170498071/170498071 [==============================] - 151s 1us/step\n"
     ]
    }
   ],
   "source": [
    "(xtrain,ytrain),(xtest,ytest)=datasets.cifar10.load_data()"
   ]
  },
  {
   "cell_type": "code",
   "execution_count": 8,
   "metadata": {},
   "outputs": [],
   "source": [
    "ytest=ytest.reshape(-1,) #tek boyuta dönüştürdük.\n",
    "siniflar=[\"uçak\",\"otomobil\",\"kuş\",\"kedi\",\"geyik\",\"köpek\",\"kurbağa\",\"at\",\"gemi\",\"kamyon\"]"
   ]
  },
  {
   "cell_type": "code",
   "execution_count": 10,
   "metadata": {},
   "outputs": [],
   "source": [
    "def ornek(x,y,index):\n",
    "    plt.figure(figsize=(15,2))\n",
    "    plt.imshow(x[index])\n",
    "    plt.xlabel(siniflar[y[index]])\n",
    "\n",
    "\n"
   ]
  },
  {
   "cell_type": "code",
   "execution_count": 11,
   "metadata": {},
   "outputs": [
    {
     "data": {
      "image/png": "[encoded data removed]",
      "text/plain": [
       "<Figure size 1500x200 with 1 Axes>"
      ]
     },
     "metadata": {},
     "output_type": "display_data"
    }
   ],
   "source": [
    "ornek(xtest,ytest,15)"
   ]
  },
  {
   "cell_type": "code",
   "execution_count": 12,
   "metadata": {},
   "outputs": [],
   "source": [
    "xtrain=xtrain/255\n",
    "xtest=xtest/255"
   ]
  },
  {
   "cell_type": "code",
   "execution_count": 13,
   "metadata": {},
   "outputs": [],
   "source": [
    "model=models.Sequential([\n",
    "    layers.Conv2D(filters=32,kernel_size=(3,3),activation=\"relu\",input_shape=(32,32,3)),\n",
    "    layers.MaxPooling2D(2,2),\n",
    "\n",
    "    layers.Conv2D(filters=64,kernel_size=(3,3),activation=\"relu\"),\n",
    "    layers.MaxPooling2D(2,2),\n",
    "    layers.Flatten(),\n",
    "    layers.Dense(64,activation=\"relu\"),\n",
    "    layers.Dense(10,activation=\"softmax\")\n",
    "])"
   ]
  },
  {
   "cell_type": "code",
   "execution_count": 14,
   "metadata": {},
   "outputs": [],
   "source": [
    "model.compile(optimizer=\"adam\",loss=\"sparse_categorical_crossentropy\",metrics=[\"accuracy\"])"
   ]
  },
  {
   "cell_type": "code",
   "execution_count": 15,
   "metadata": {},
   "outputs": [
    {
     "name": "stdout",
     "output_type": "stream",
     "text": [
      "Epoch 1/15\n",
      "1563/1563 [==============================] - 22s 14ms/step - loss: 1.5270 - accuracy: 0.4493\n",
      "Epoch 2/15\n",
      "1563/1563 [==============================] - 20s 13ms/step - loss: 1.1707 - accuracy: 0.5882\n",
      "Epoch 3/15\n",
      "1563/1563 [==============================] - 22s 14ms/step - loss: 1.0407 - accuracy: 0.6385\n",
      "Epoch 4/15\n",
      "1563/1563 [==============================] - 20s 13ms/step - loss: 0.9590 - accuracy: 0.6668\n",
      "Epoch 5/15\n",
      "1563/1563 [==============================] - 20s 13ms/step - loss: 0.9000 - accuracy: 0.6897\n",
      "Epoch 6/15\n",
      "1563/1563 [==============================] - 20s 13ms/step - loss: 0.8439 - accuracy: 0.7071\n",
      "Epoch 7/15\n",
      "1563/1563 [==============================] - 20s 13ms/step - loss: 0.7990 - accuracy: 0.7217\n",
      "Epoch 8/15\n",
      "1563/1563 [==============================] - 21s 13ms/step - loss: 0.7585 - accuracy: 0.7378\n",
      "Epoch 9/15\n",
      "1563/1563 [==============================] - 21s 14ms/step - loss: 0.7221 - accuracy: 0.7489\n",
      "Epoch 10/15\n",
      "1563/1563 [==============================] - 21s 14ms/step - loss: 0.6882 - accuracy: 0.7601\n",
      "Epoch 11/15\n",
      "1563/1563 [==============================] - 21s 13ms/step - loss: 0.6575 - accuracy: 0.7732\n",
      "Epoch 12/15\n",
      "1563/1563 [==============================] - 22s 14ms/step - loss: 0.6317 - accuracy: 0.7796\n",
      "Epoch 13/15\n",
      "1563/1563 [==============================] - 22s 14ms/step - loss: 0.5994 - accuracy: 0.7919\n",
      "Epoch 14/15\n",
      "1563/1563 [==============================] - 22s 14ms/step - loss: 0.5727 - accuracy: 0.8004\n",
      "Epoch 15/15\n",
      "1563/1563 [==============================] - 21s 13ms/step - loss: 0.5481 - accuracy: 0.8087\n"
     ]
    },
    {
     "data": {
      "text/plain": [
       "<keras.src.callbacks.History at 0x18381139330>"
      ]
     },
     "execution_count": 15,
     "metadata": {},
     "output_type": "execute_result"
    }
   ],
   "source": [
    "model.fit(xtrain,ytrain,epochs=15)"
   ]
  },
  {
   "cell_type": "code",
   "execution_count": 16,
   "metadata": {},
   "outputs": [
    {
     "name": "stdout",
     "output_type": "stream",
     "text": [
      "313/313 [==============================] - 1s 4ms/step\n"
     ]
    },
    {
     "data": {
      "text/plain": [
       "array([[3.5342953e-05, 2.2749016e-06, 1.2286409e-03, 9.5711255e-01,\n",
       "        2.0488609e-05, 1.5222380e-02, 2.8009685e-03, 1.6136038e-06,\n",
       "        2.2560067e-02, 1.0157117e-03],\n",
       "       [7.9036219e-04, 1.2355153e-01, 9.3901963e-06, 3.7255015e-07,\n",
       "        2.3512159e-07, 5.9008958e-09, 1.8097515e-08, 2.3199226e-08,\n",
       "        8.7479830e-01, 8.4982440e-04],\n",
       "       [3.8689792e-01, 4.3348408e-01, 1.4018575e-03, 1.1374140e-02,\n",
       "        1.8030616e-04, 1.4147030e-03, 1.9474652e-04, 3.4048362e-04,\n",
       "        4.7947630e-02, 1.1676410e-01]], dtype=float32)"
      ]
     },
     "execution_count": 16,
     "metadata": {},
     "output_type": "execute_result"
    }
   ],
   "source": [
    "ypred=model.predict(xtest)\n",
    "ypred[:3]"
   ]
  },
  {
   "cell_type": "code",
   "execution_count": 17,
   "metadata": {},
   "outputs": [
    {
     "name": "stdout",
     "output_type": "stream",
     "text": [
      "[3, 8, 1]\n",
      "[3 8 8]\n"
     ]
    }
   ],
   "source": [
    "ypred1=[np.argmax(element) for element in ypred]\n",
    "print(ypred1[:3])\n",
    "print(ytest[:3])"
   ]
  },
  {
   "cell_type": "code",
   "execution_count": 18,
   "metadata": {},
   "outputs": [
    {
     "data": {
      "image/png": "[encoded data removed]",
      "text/plain": [
       "<Figure size 1500x200 with 1 Axes>"
      ]
     },
     "metadata": {},
     "output_type": "display_data"
    }
   ],
   "source": [
    "ornek(xtest,ytest,0)"
   ]
  },
  {
   "cell_type": "code",
   "execution_count": 19,
   "metadata": {},
   "outputs": [
    {
     "data": {
      "image/png": "[encoded data removed]",
      "text/plain": [
       "<Figure size 1500x200 with 1 Axes>"
      ]
     },
     "metadata": {},
     "output_type": "display_data"
    }
   ],
   "source": [
    "ornek(xtest,ytest,1)"
   ]
  }
 ],
 "metadata": {
  "kernelspec": {
   "display_name": "base",
   "language": "python",
   "name": "python3"
  },
  "language_info": {
   "codemirror_mode": {
    "name": "ipython",
    "version": 3
   },
   "file_extension": ".py",
   "mimetype": "text/x-python",
   "name": "python",
   "nbconvert_exporter": "python",
   "pygments_lexer": "ipython3",
   "version": "3.10.9"
  },
  "orig_nbformat": 4
 },
 "nbformat": 4,
 "nbformat_minor": 2
}
